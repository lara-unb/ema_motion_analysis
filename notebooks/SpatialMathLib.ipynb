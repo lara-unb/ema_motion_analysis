{
 "cells": [
  {
   "cell_type": "markdown",
   "metadata": {},
   "source": [
    "# Representing Position and Orientation"
   ]
  },
  {
   "cell_type": "markdown",
   "metadata": {},
   "source": [
    "Aqui tem varias coisas: https://petercorke.github.io/spatialmath-python/func_quat.html"
   ]
  },
  {
   "cell_type": "code",
   "execution_count": 5,
   "metadata": {},
   "outputs": [],
   "source": [
    "import numpy as np\n",
    "from math import pi\n",
    "from spatialmath import *\n",
    "\n",
    "import ipywidgets as widgets\n",
    "import matplotlib.pyplot as plt"
   ]
  },
  {
   "cell_type": "markdown",
   "metadata": {},
   "source": [
    "## Representing Orientation in 2-Dimensions"
   ]
  },
  {
   "cell_type": "markdown",
   "metadata": {},
   "source": [
    "- Represents a translation of (1, 2) and a rotation of 30°"
   ]
  },
  {
   "cell_type": "code",
   "execution_count": 10,
   "metadata": {},
   "outputs": [
    {
     "data": {
      "text/plain": [
       "   0.866    -0.5       1         \n",
       "   0.5       0.866     2         \n",
       "   0         0         1         \n"
      ]
     },
     "execution_count": 10,
     "metadata": {},
     "output_type": "execute_result"
    }
   ],
   "source": [
    "T1 = SE2(1, 2, 30*pi/180)\n",
    "T1"
   ]
  },
  {
   "cell_type": "markdown",
   "metadata": {},
   "source": [
    "- Relative pose which is a displacement of (2, 1) and zero rotation"
   ]
  },
  {
   "cell_type": "code",
   "execution_count": 11,
   "metadata": {},
   "outputs": [
    {
     "data": {
      "text/plain": [
       "   1         0         2         \n",
       "   0         1         1         \n",
       "   0         0         1         \n"
      ]
     },
     "execution_count": 11,
     "metadata": {},
     "output_type": "execute_result"
    }
   ],
   "source": [
    "\n",
    "T2 = SE2(2, 1, 0)\n",
    "T2"
   ]
  },
  {
   "cell_type": "markdown",
   "metadata": {},
   "source": [
    "- Compose the two relative poses"
   ]
  },
  {
   "cell_type": "code",
   "execution_count": 12,
   "metadata": {},
   "outputs": [
    {
     "data": {
      "text/plain": [
       "   0.866    -0.5       2.232     \n",
       "   0.5       0.866     3.866     \n",
       "   0         0         1         \n"
      ]
     },
     "execution_count": 12,
     "metadata": {},
     "output_type": "execute_result"
    }
   ],
   "source": [
    "\n",
    "T3 = T1*T2\n",
    "T3"
   ]
  },
  {
   "cell_type": "markdown",
   "metadata": {},
   "source": [
    "- Compose the two relative poses\n",
    "- Non-commutativity of composition is clearly demonstrated by:"
   ]
  },
  {
   "cell_type": "code",
   "execution_count": 9,
   "metadata": {},
   "outputs": [
    {
     "data": {
      "text/plain": [
       "   0.866    -0.5       3         \n",
       "   0.5       0.866     3         \n",
       "   0         0         1         \n"
      ]
     },
     "execution_count": 9,
     "metadata": {},
     "output_type": "execute_result"
    }
   ],
   "source": [
    "\n",
    "T4 = T2*T1\n",
    "T4"
   ]
  },
  {
   "cell_type": "markdown",
   "metadata": {},
   "source": [
    "- Plot poses"
   ]
  },
  {
   "cell_type": "code",
   "execution_count": 31,
   "metadata": {},
   "outputs": [
    {
     "data": {
      "text/plain": [
       "[<matplotlib.lines.Line2D at 0x7f961a1377f0>]"
      ]
     },
     "execution_count": 31,
     "metadata": {},
     "output_type": "execute_result"
    },
    {
     "data": {
      "text/plain": [
       "<Figure size 432x288 with 0 Axes>"
      ]
     },
     "metadata": {},
     "output_type": "display_data"
    },
    {
     "data": {
      "image/png": "[encoded data removed]",
      "text/plain": [
       "<Figure size 432x288 with 1 Axes>"
      ]
     },
     "metadata": {
      "needs_background": "light"
     },
     "output_type": "display_data"
    }
   ],
   "source": [
    "# create a new figure\n",
    "plt.figure() \n",
    "SE2().plot(frame='0', dims=[0,5], color='black')\n",
    "T1.plot(frame='1', dims=[0,5], color='red')\n",
    "T2.plot(frame='2', dims=[0,5], color='blue')\n",
    "T3.plot(frame='3', dims=[0,5], color='green')\n",
    "T4.plot(frame='4', dims=[0,5], color='magenta')\n",
    "plt.grid(True)\n",
    "\n",
    "# define a point (3, 2) relative to the world frame\n",
    "P = [3, 2]\n",
    "plt.plot(P[0], P[1], 'co')"
   ]
  },
  {
   "cell_type": "code",
   "execution_count": 51,
   "metadata": {},
   "outputs": [
    {
     "data": {
      "text/plain": [
       "array([[ 1.73205081],\n",
       "       [-1.        ]])"
      ]
     },
     "execution_count": 51,
     "metadata": {},
     "output_type": "execute_result"
    }
   ],
   "source": [
    "# coordinate of the point with respect to {1}\n",
    "P1 = T1.inv() * P\n",
    "P1\n"
   ]
  },
  {
   "cell_type": "code",
   "execution_count": 52,
   "metadata": {},
   "outputs": [
    {
     "data": {
      "text/plain": [
       "array([ 1.73205081, -1.        ,  1.        ])"
      ]
     },
     "execution_count": 52,
     "metadata": {},
     "output_type": "execute_result"
    }
   ],
   "source": [
    "#convert the Euclidean point to homogeneous form by appending a one\n",
    "P1 = np.append(P1, 1)\n",
    "P1"
   ]
  },
  {
   "cell_type": "markdown",
   "metadata": {},
   "source": [
    "- Achar solução"
   ]
  },
  {
   "cell_type": "code",
   "execution_count": 83,
   "metadata": {},
   "outputs": [
    {
     "ename": "ValueError",
     "evalue": "bad operands",
     "output_type": "error",
     "traceback": [
      "\u001b[0;31m---------------------------------------------------------------------------\u001b[0m",
      "\u001b[0;31mValueError\u001b[0m                                Traceback (most recent call last)",
      "\u001b[1;32m/home/rafael-barbosa/TG1/ema_motion_analysis/notebooks/SpatialMathLib.ipynb Cell 18'\u001b[0m in \u001b[0;36m<cell line: 8>\u001b[0;34m()\u001b[0m\n\u001b[1;32m      <a href='vscode-notebook-cell:/home/rafael-barbosa/TG1/ema_motion_analysis/notebooks/SpatialMathLib.ipynb#ch0000011?line=0'>1</a>\u001b[0m \u001b[39mfrom\u001b[39;00m \u001b[39mspatialmath\u001b[39;00m\u001b[39m.\u001b[39;00m\u001b[39mbase\u001b[39;00m \u001b[39mimport\u001b[39;00m \u001b[39m*\u001b[39m\n\u001b[1;32m      <a href='vscode-notebook-cell:/home/rafael-barbosa/TG1/ema_motion_analysis/notebooks/SpatialMathLib.ipynb#ch0000011?line=2'>3</a>\u001b[0m \u001b[39m# h2e -> homogeneous to euclidian\u001b[39;00m\n\u001b[1;32m      <a href='vscode-notebook-cell:/home/rafael-barbosa/TG1/ema_motion_analysis/notebooks/SpatialMathLib.ipynb#ch0000011?line=3'>4</a>\u001b[0m \u001b[39m# e2h -> euclidian to homogeneous\u001b[39;00m\n\u001b[1;32m      <a href='vscode-notebook-cell:/home/rafael-barbosa/TG1/ema_motion_analysis/notebooks/SpatialMathLib.ipynb#ch0000011?line=4'>5</a>\u001b[0m \n\u001b[1;32m      <a href='vscode-notebook-cell:/home/rafael-barbosa/TG1/ema_motion_analysis/notebooks/SpatialMathLib.ipynb#ch0000011?line=5'>6</a>\u001b[0m \u001b[39m#result is in Euclidean coordinates\u001b[39;00m\n\u001b[1;32m      <a href='vscode-notebook-cell:/home/rafael-barbosa/TG1/ema_motion_analysis/notebooks/SpatialMathLib.ipynb#ch0000011?line=6'>7</a>\u001b[0m \u001b[39m#ERA PRA ISSO FUNCIONAR MAS NAO FUNCIONA PQ O T1 É DA CLASSE SE2\u001b[39;00m\n\u001b[0;32m----> <a href='vscode-notebook-cell:/home/rafael-barbosa/TG1/ema_motion_analysis/notebooks/SpatialMathLib.ipynb#ch0000011?line=7'>8</a>\u001b[0m eucl \u001b[39m=\u001b[39m h2e(T1\u001b[39m.\u001b[39;49minv() \u001b[39m*\u001b[39;49m e2h(P))\n\u001b[1;32m      <a href='vscode-notebook-cell:/home/rafael-barbosa/TG1/ema_motion_analysis/notebooks/SpatialMathLib.ipynb#ch0000011?line=8'>9</a>\u001b[0m eucl\n",
      "File \u001b[0;32m~/anaconda3/envs/ema_motion_env/lib/python3.9/site-packages/spatialmath/baseposematrix.py:1121\u001b[0m, in \u001b[0;36mBasePoseMatrix.__mul__\u001b[0;34m(left, right)\u001b[0m\n\u001b[1;32m   <a href='file:///home/rafael-barbosa/anaconda3/envs/ema_motion_env/lib/python3.9/site-packages/spatialmath/baseposematrix.py?line=1118'>1119</a>\u001b[0m         \u001b[39mreturn\u001b[39;00m np\u001b[39m.\u001b[39mc_[[base\u001b[39m.\u001b[39mh2e(x\u001b[39m.\u001b[39mA \u001b[39m@\u001b[39m base\u001b[39m.\u001b[39me2h(y)) \u001b[39mfor\u001b[39;00m x, y \u001b[39min\u001b[39;00m \u001b[39mzip\u001b[39m(right, left\u001b[39m.\u001b[39mT)]]\u001b[39m.\u001b[39mT\n\u001b[1;32m   <a href='file:///home/rafael-barbosa/anaconda3/envs/ema_motion_env/lib/python3.9/site-packages/spatialmath/baseposematrix.py?line=1119'>1120</a>\u001b[0m     \u001b[39melse\u001b[39;00m:\n\u001b[0;32m-> <a href='file:///home/rafael-barbosa/anaconda3/envs/ema_motion_env/lib/python3.9/site-packages/spatialmath/baseposematrix.py?line=1120'>1121</a>\u001b[0m         \u001b[39mraise\u001b[39;00m \u001b[39mValueError\u001b[39;00m(\u001b[39m'\u001b[39m\u001b[39mbad operands\u001b[39m\u001b[39m'\u001b[39m)\n\u001b[1;32m   <a href='file:///home/rafael-barbosa/anaconda3/envs/ema_motion_env/lib/python3.9/site-packages/spatialmath/baseposematrix.py?line=1121'>1122</a>\u001b[0m \u001b[39melif\u001b[39;00m base\u001b[39m.\u001b[39misscalar(right):\n\u001b[1;32m   <a href='file:///home/rafael-barbosa/anaconda3/envs/ema_motion_env/lib/python3.9/site-packages/spatialmath/baseposematrix.py?line=1122'>1123</a>\u001b[0m     \u001b[39mreturn\u001b[39;00m left\u001b[39m.\u001b[39m_op2(right, \u001b[39mlambda\u001b[39;00m x, y: x \u001b[39m*\u001b[39m y)\n",
      "\u001b[0;31mValueError\u001b[0m: bad operands"
     ]
    }
   ],
   "source": [
    "from spatialmath.base import *\n",
    "\n",
    "# h2e -> homogeneous to euclidian\n",
    "# e2h -> euclidian to homogeneous\n",
    "\n",
    "#result is in Euclidean coordinates\n",
    "#ERA PRA ISSO FUNCIONAR MAS NAO FUNCIONA PQ O T1 É DA CLASSE SE2\n",
    "eucl = h2e(T1.inv() * e2h(P))\n",
    "eucl\n"
   ]
  },
  {
   "cell_type": "code",
   "execution_count": 84,
   "metadata": {},
   "outputs": [
    {
     "ename": "NameError",
     "evalue": "name 'inv' is not defined",
     "output_type": "error",
     "traceback": [
      "\u001b[0;31m---------------------------------------------------------------------------\u001b[0m",
      "\u001b[0;31mNameError\u001b[0m                                 Traceback (most recent call last)",
      "\u001b[1;32m/home/rafael-barbosa/TG1/ema_motion_analysis/notebooks/SpatialMathLib.ipynb Cell 19'\u001b[0m in \u001b[0;36m<cell line: 1>\u001b[0;34m()\u001b[0m\n\u001b[0;32m----> <a href='vscode-notebook-cell:/home/rafael-barbosa/TG1/ema_motion_analysis/notebooks/SpatialMathLib.ipynb#ch0000063?line=0'>1</a>\u001b[0m homtrans( inv(T1), P)\n",
      "\u001b[0;31mNameError\u001b[0m: name 'inv' is not defined"
     ]
    }
   ],
   "source": [
    " homtrans( T1.inv(), P)"
   ]
  },
  {
   "cell_type": "markdown",
   "metadata": {},
   "source": [
    "## Representing Orientation in 3-Dimensions"
   ]
  },
  {
   "cell_type": "code",
   "execution_count": 11,
   "metadata": {},
   "outputs": [
    {
     "data": {
      "text/plain": [
       "array([[ 1.000000e+00,  0.000000e+00,  0.000000e+00],\n",
       "       [ 0.000000e+00,  6.123234e-17, -1.000000e+00],\n",
       "       [ 0.000000e+00,  1.000000e+00,  6.123234e-17]])"
      ]
     },
     "execution_count": 11,
     "metadata": {},
     "output_type": "execute_result"
    }
   ],
   "source": [
    "#elementary rotation matrices\n",
    "R = rotx(pi/2)\n",
    "R\n",
    "\n",
    "#functions roty and rotzcompute Ry(θ) and Rz(θ) respectively"
   ]
  },
  {
   "cell_type": "code",
   "execution_count": 12,
   "metadata": {},
   "outputs": [
    {
     "data": {
      "image/png": "[encoded data removed]",
      "text/plain": [
       "<Figure size 432x288 with 1 Axes>"
      ]
     },
     "metadata": {
      "needs_background": "light"
     },
     "output_type": "display_data"
    }
   ],
   "source": [
    "# the corresponding coordinate frame can be displayed graphically\n",
    "trplot(R, 'magenta');"
   ]
  },
  {
   "cell_type": "code",
   "execution_count": 13,
   "metadata": {},
   "outputs": [
    {
     "name": "stdout",
     "output_type": "stream",
     "text": [
      "overwriting movie spin.mp4\n"
     ]
    },
    {
     "data": {
      "image/png": "[encoded data removed]",
      "text/plain": [
       "<Figure size 432x288 with 1 Axes>"
      ]
     },
     "metadata": {
      "needs_background": "light"
     },
     "output_type": "display_data"
    }
   ],
   "source": [
    "#We can visualize a rotation more powerfully using the \n",
    "# Toolbox function tranimate which animates a rotation\n",
    "\n",
    "#Generates mp4 spin movie\n",
    "tranimate(R, dims=[-2, 2], movie='spin.mp4')"
   ]
  },
  {
   "cell_type": "code",
   "execution_count": null,
   "metadata": {},
   "outputs": [
    {
     "data": {
      "text/plain": [
       "array([[ 6.12323400e-17,  0.00000000e+00,  1.00000000e+00],\n",
       "       [ 1.00000000e+00,  6.12323400e-17, -6.12323400e-17],\n",
       "       [-6.12323400e-17,  1.00000000e+00,  3.74939946e-33]])"
      ]
     },
     "execution_count": 43,
     "metadata": {},
     "output_type": "execute_result"
    }
   ],
   "source": [
    "# compounding of rotations\n",
    "Rxy = np.dot(rotx(pi/2), roty(pi/2))\n",
    "Rxy\n"
   ]
  },
  {
   "cell_type": "code",
   "execution_count": null,
   "metadata": {},
   "outputs": [
    {
     "data": {
      "text/plain": [
       "<Axes3DSubplot:xlabel='X', ylabel='X'>"
      ]
     },
     "execution_count": 44,
     "metadata": {},
     "output_type": "execute_result"
    },
    {
     "data": {
      "image/png": "[encoded data removed]",
      "text/plain": [
       "<Figure size 432x288 with 1 Axes>"
      ]
     },
     "metadata": {
      "needs_background": "light"
     },
     "output_type": "display_data"
    }
   ],
   "source": [
    "trplot(Rxy, 'orange')"
   ]
  },
  {
   "cell_type": "code",
   "execution_count": null,
   "metadata": {},
   "outputs": [
    {
     "data": {
      "text/plain": [
       "<Axes3DSubplot:xlabel='X', ylabel='X'>"
      ]
     },
     "execution_count": 41,
     "metadata": {},
     "output_type": "execute_result"
    },
    {
     "data": {
      "image/png": "[encoded data removed]",
      "text/plain": [
       "<Figure size 432x288 with 1 Axes>"
      ]
     },
     "metadata": {
      "needs_background": "light"
     },
     "output_type": "display_data"
    }
   ],
   "source": [
    "# non-commutativity of rotation shown\n",
    "Ryx = np.dot(roty(pi/2), rotx(pi/2))\n",
    "trplot(Ryx, 'red')"
   ]
  },
  {
   "cell_type": "markdown",
   "metadata": {},
   "source": [
    "### Three-Angle Representations"
   ]
  },
  {
   "cell_type": "markdown",
   "metadata": {},
   "source": [
    "The Euler angles are the 3-vector ¡ = (φ, θ, ψ)."
   ]
  },
  {
   "cell_type": "code",
   "execution_count": null,
   "metadata": {},
   "outputs": [
    {
     "data": {
      "text/plain": [
       "array([[ 0.97517033, -0.09983342,  0.19767681],\n",
       "       [ 0.0978434 ,  0.99500417,  0.01983384],\n",
       "       [-0.19866933,  0.        ,  0.98006658]])"
      ]
     },
     "execution_count": 46,
     "metadata": {},
     "output_type": "execute_result"
    }
   ],
   "source": [
    "#to compute the equivalent rotation matrix for T = (0.1, 0.2, 0.3) we write\n",
    "R = np.dot(rotz(0.1), roty(0.2), rotz(0.3))\n",
    "R"
   ]
  },
  {
   "cell_type": "code",
   "execution_count": null,
   "metadata": {},
   "outputs": [
    {
     "data": {
      "text/plain": [
       "array([[ 0.902113  , -0.38355704,  0.19767681],\n",
       "       [ 0.3875172 ,  0.92164909,  0.01983384],\n",
       "       [-0.18979606,  0.0587108 ,  0.98006658]])"
      ]
     },
     "execution_count": 47,
     "metadata": {},
     "output_type": "execute_result"
    }
   ],
   "source": [
    "# or more conveniently\n",
    "R = eul2r(0.1, 0.2, 0.3)\n",
    "R"
   ]
  },
  {
   "cell_type": "code",
   "execution_count": null,
   "metadata": {},
   "outputs": [
    {
     "data": {
      "text/plain": [
       "array([0.1, 0.2, 0.3])"
      ]
     },
     "execution_count": 48,
     "metadata": {},
     "output_type": "execute_result"
    }
   ],
   "source": [
    "#The inverse problem is finding the Euler angles that correspond to a given rotation matrix\n",
    "gamma = tr2eul(R)\n",
    "gamma\n"
   ]
  },
  {
   "cell_type": "markdown",
   "metadata": {},
   "source": [
    "However if θ is negative the inverse function returns a positive value for θ and quite different values for φ and ψ. However the corresponding rotation matrix is the same – the two different sets of Euler angles correspond to the one rotation matrix. The mapping from rotation matrix to Euler angles is not unique and always\n",
    "returns a positive angle for θ"
   ]
  },
  {
   "cell_type": "markdown",
   "metadata": {},
   "source": [
    "The roll-pitch-yaw sequence allows all angles to have arbitrary sign and it has a singularity\n",
    "when θp=±(pi/2)"
   ]
  },
  {
   "cell_type": "code",
   "execution_count": null,
   "metadata": {},
   "outputs": [
    {
     "data": {
      "text/plain": [
       "array([[ 0.93629336, -0.27509585,  0.21835066],\n",
       "       [ 0.28962948,  0.95642509, -0.03695701],\n",
       "       [-0.19866933,  0.0978434 ,  0.97517033]])"
      ]
     },
     "execution_count": 49,
     "metadata": {},
     "output_type": "execute_result"
    }
   ],
   "source": [
    "R = rpy2r(0.1, 0.2, 0.3)\n",
    "R"
   ]
  },
  {
   "cell_type": "code",
   "execution_count": null,
   "metadata": {},
   "outputs": [
    {
     "data": {
      "text/plain": [
       "array([0.1, 0.2, 0.3])"
      ]
     },
     "execution_count": 50,
     "metadata": {},
     "output_type": "execute_result"
    }
   ],
   "source": [
    "gamma = tr2rpy(R)\n",
    "gamma"
   ]
  },
  {
   "cell_type": "markdown",
   "metadata": {},
   "source": [
    "### Two Vector Representation"
   ]
  },
  {
   "cell_type": "markdown",
   "metadata": {},
   "source": [
    "- approach vector â = (ax, ay, az)\n",
    "- orientation vector ô = (ox, oy, oz)"
   ]
  },
  {
   "cell_type": "code",
   "execution_count": null,
   "metadata": {},
   "outputs": [
    {
     "data": {
      "text/plain": [
       "array([[ 0., -0.,  1.],\n",
       "       [ 0.,  1.,  0.],\n",
       "       [-1.,  0.,  0.]])"
      ]
     },
     "execution_count": 54,
     "metadata": {},
     "output_type": "execute_result"
    }
   ],
   "source": [
    "# These two unit vectors are sufficient to completely define the rotation matrix\n",
    "a = np.array([1, 0, 0]).T\n",
    "o = np.array([0, 1, 0]).T\n",
    "oa2r(o, a)"
   ]
  },
  {
   "cell_type": "markdown",
   "metadata": {},
   "source": [
    "### Rotation about an Arbitrary Vector"
   ]
  },
  {
   "cell_type": "code",
   "execution_count": null,
   "metadata": {},
   "outputs": [
    {
     "name": "stdout",
     "output_type": "stream",
     "text": [
      "Theta:  0.3655021863566987\n",
      "V:  [0.18857511 0.58337798 0.79000605]\n"
     ]
    }
   ],
   "source": [
    "R = rpy2r(0.1 , 0.2, 0.3)\n",
    "\n",
    "[theta, v] = tr2angvec(R)\n",
    "\n",
    "#where theta is the amount of rotation and v is the vector around which the rotation occurs.\n",
    "print('Theta: ', theta)\n",
    "print('V: ', v)"
   ]
  },
  {
   "cell_type": "code",
   "execution_count": null,
   "metadata": {},
   "outputs": [
    {
     "data": {
      "text/plain": [
       "array([[ 1.00000000e+00,  0.00000000e+00,  0.00000000e+00],\n",
       "       [ 0.00000000e+00,  1.11022302e-16, -1.00000000e+00],\n",
       "       [ 0.00000000e+00,  1.00000000e+00,  1.11022302e-16]])"
      ]
     },
     "execution_count": 66,
     "metadata": {},
     "output_type": "execute_result"
    }
   ],
   "source": [
    "# Converting from angle and vector to a rotation matrix is \n",
    "# achieved using Rodrigues’ rotation formula\n",
    "\n",
    "R = angvec2r((pi/2), [1, 0, 0])\n",
    "R"
   ]
  },
  {
   "cell_type": "markdown",
   "metadata": {},
   "source": [
    "### Unit Quaternions"
   ]
  },
  {
   "cell_type": "markdown",
   "metadata": {},
   "source": [
    "-> TEM QUE USAR A CLASSE UNIT QUATERNION E NAO QUATERNION"
   ]
  },
  {
   "cell_type": "code",
   "execution_count": 124,
   "metadata": {},
   "outputs": [],
   "source": [
    "from spatialmath import UnitQuaternion as UQ"
   ]
  },
  {
   "cell_type": "code",
   "execution_count": null,
   "metadata": {},
   "outputs": [
    {
     "name": "stdout",
     "output_type": "stream",
     "text": [
      " 0.9363 << -0.2751,  0.2184,  0.0000 >>\n",
      " 0.2896 <<  0.9564, -0.0370,  0.0000 >>\n",
      " 0.1987 << -0.0978, -0.9752, -0.0000 >>\n",
      " 0.0000 <<  0.0000,  0.0000,  1.0000 >>\n"
     ]
    },
    {
     "data": {
      "text/plain": []
     },
     "execution_count": 131,
     "metadata": {},
     "output_type": "execute_result"
    }
   ],
   "source": [
    "#The constructor converts the passed argument to a quaternion, for example\n",
    "q = UQ(rpy2tr(0.1, 0.2, 0.3))\n",
    "q\n",
    "\n",
    "\n",
    "#tendi direito nao\n"
   ]
  },
  {
   "cell_type": "code",
   "execution_count": null,
   "metadata": {},
   "outputs": [
    {
     "name": "stdout",
     "output_type": "stream",
     "text": [
      " 0.1826 <<  0.3651,  0.5477,  0.7303 >>\n"
     ]
    },
    {
     "data": {
      "text/plain": []
     },
     "execution_count": 132,
     "metadata": {},
     "output_type": "execute_result"
    }
   ],
   "source": [
    "# USANDO OUTRO EXEMPLO DE QUATERNION\n",
    "\n",
    "q = UQ([1,2,3,4])\n",
    "q"
   ]
  },
  {
   "cell_type": "code",
   "execution_count": null,
   "metadata": {},
   "outputs": [
    {
     "data": {
      "text/plain": [
       "0.9999999999999999"
      ]
     },
     "execution_count": 133,
     "metadata": {},
     "output_type": "execute_result"
    }
   ],
   "source": [
    "q.norm()"
   ]
  },
  {
   "cell_type": "code",
   "execution_count": null,
   "metadata": {},
   "outputs": [
    {
     "name": "stdout",
     "output_type": "stream",
     "text": [
      " 0.9333 << -0.1333, -0.2000, -0.2667 >>\n"
     ]
    },
    {
     "data": {
      "text/plain": []
     },
     "execution_count": 134,
     "metadata": {},
     "output_type": "execute_result"
    }
   ],
   "source": [
    "#Quaternion multiplication is invoked through the overloaded multiplication operator\n",
    "q1 = q * q\n",
    "q1"
   ]
  },
  {
   "cell_type": "code",
   "execution_count": 144,
   "metadata": {},
   "outputs": [
    {
     "name": "stdout",
     "output_type": "stream",
     "text": [
      " 0.1826 << -0.3651, -0.5477, -0.7303 >>\n"
     ]
    },
    {
     "data": {
      "text/plain": []
     },
     "execution_count": 144,
     "metadata": {},
     "output_type": "execute_result"
    }
   ],
   "source": [
    "#inversion, the quaternion conjugate, is\n",
    "q.inv()"
   ]
  },
  {
   "cell_type": "code",
   "execution_count": 145,
   "metadata": {},
   "outputs": [
    {
     "name": "stdout",
     "output_type": "stream",
     "text": [
      " 1.0000 <<  0.0000,  0.0000,  0.0000 >>\n"
     ]
    },
    {
     "data": {
      "text/plain": []
     },
     "execution_count": 145,
     "metadata": {},
     "output_type": "execute_result"
    }
   ],
   "source": [
    "#Multiplying a quaternion by its inverse\n",
    "q*q.inv()"
   ]
  },
  {
   "cell_type": "code",
   "execution_count": 146,
   "metadata": {},
   "outputs": [
    {
     "name": "stdout",
     "output_type": "stream",
     "text": [
      " 1.0000 <<  0.0000,  0.0000,  0.0000 >>\n"
     ]
    },
    {
     "data": {
      "text/plain": []
     },
     "execution_count": 146,
     "metadata": {},
     "output_type": "execute_result"
    }
   ],
   "source": [
    "# or\n",
    "q/q"
   ]
  },
  {
   "cell_type": "code",
   "execution_count": 148,
   "metadata": {},
   "outputs": [
    {
     "data": {
      "text/plain": [
       "array([[-0.66666667,  0.13333333,  0.73333333],\n",
       "       [ 0.66666667, -0.33333333,  0.66666667],\n",
       "       [ 0.33333333,  0.93333333,  0.13333333]])"
      ]
     },
     "execution_count": 148,
     "metadata": {},
     "output_type": "execute_result"
    }
   ],
   "source": [
    "#The quaternion can be converted to an orthonormal rotation matrix by\n",
    "q.R"
   ]
  },
  {
   "cell_type": "code",
   "execution_count": 149,
   "metadata": {},
   "outputs": [
    {
     "data": {
      "image/png": "[encoded data removed]",
      "text/plain": [
       "<Figure size 432x288 with 1 Axes>"
      ]
     },
     "metadata": {
      "needs_background": "light"
     },
     "output_type": "display_data"
    }
   ],
   "source": [
    "#plot the orientation represented by a quaternion\n",
    "q.plot()"
   ]
  },
  {
   "cell_type": "code",
   "execution_count": 158,
   "metadata": {},
   "outputs": [
    {
     "data": {
      "text/plain": [
       "array([-0.66666667,  0.66666667,  0.33333333])"
      ]
     },
     "execution_count": 158,
     "metadata": {},
     "output_type": "execute_result"
    }
   ],
   "source": [
    "#vector is rotated by a quaternion using the overloaded multiplication operator\n",
    "q*np.array([1, 0, 0]).T"
   ]
  },
  {
   "cell_type": "markdown",
   "metadata": {},
   "source": [
    "### Combining Translation and Orientation"
   ]
  },
  {
   "cell_type": "code",
   "execution_count": 156,
   "metadata": {},
   "outputs": [
    {
     "data": {
      "text/plain": [
       "array([[ 1.000000e+00,  0.000000e+00,  0.000000e+00,  1.000000e+00],\n",
       "       [ 0.000000e+00,  6.123234e-17, -1.000000e+00,  0.000000e+00],\n",
       "       [ 0.000000e+00,  1.000000e+00,  6.123234e-17,  0.000000e+00],\n",
       "       [ 0.000000e+00,  0.000000e+00,  0.000000e+00,  1.000000e+00]])"
      ]
     },
     "execution_count": 156,
     "metadata": {},
     "output_type": "execute_result"
    }
   ],
   "source": [
    "# composition of transforms\n",
    "T = np.dot(transl(1, 0, 0), trotx(pi/2), transl(0, 1, 0))\n",
    "T"
   ]
  },
  {
   "cell_type": "code",
   "execution_count": 159,
   "metadata": {},
   "outputs": [
    {
     "data": {
      "text/plain": [
       "<Axes3DSubplot:xlabel='X', ylabel='X'>"
      ]
     },
     "execution_count": 159,
     "metadata": {},
     "output_type": "execute_result"
    },
    {
     "data": {
      "image/png": "[encoded data removed]",
      "text/plain": [
       "<Figure size 432x288 with 1 Axes>"
      ]
     },
     "metadata": {
      "needs_background": "light"
     },
     "output_type": "display_data"
    }
   ],
   "source": [
    "trplot(T)"
   ]
  },
  {
   "cell_type": "code",
   "execution_count": 160,
   "metadata": {},
   "outputs": [
    {
     "data": {
      "text/plain": [
       "array([[ 1.000000e+00,  0.000000e+00,  0.000000e+00],\n",
       "       [ 0.000000e+00,  6.123234e-17, -1.000000e+00],\n",
       "       [ 0.000000e+00,  1.000000e+00,  6.123234e-17]])"
      ]
     },
     "execution_count": 160,
     "metadata": {},
     "output_type": "execute_result"
    }
   ],
   "source": [
    "#rotation matrix component of T is\n",
    "t2r(T)"
   ]
  },
  {
   "cell_type": "code",
   "execution_count": 162,
   "metadata": {},
   "outputs": [
    {
     "data": {
      "text/plain": [
       "array([1., 0., 0.])"
      ]
     },
     "execution_count": 162,
     "metadata": {},
     "output_type": "execute_result"
    }
   ],
   "source": [
    "#the translation component is a vector\n",
    "transl(T).T\n",
    "\n",
    "#FICOU DIFERENTE AAA"
   ]
  },
  {
   "cell_type": "code",
   "execution_count": null,
   "metadata": {},
   "outputs": [],
   "source": []
  }
 ],
 "metadata": {
  "interpreter": {
   "hash": "651c3b7b3f466eb030aa737f279c846be4db9cba49a2f229278cab5e41121ed5"
  },
  "kernelspec": {
   "display_name": "Python 3.7.6 ('base')",
   "language": "python",
   "name": "python3"
  },
  "language_info": {
   "codemirror_mode": {
    "name": "ipython",
    "version": 3
   },
   "file_extension": ".py",
   "mimetype": "text/x-python",
   "name": "python",
   "nbconvert_exporter": "python",
   "pygments_lexer": "ipython3",
   "version": "3.9.1"
  },
  "orig_nbformat": 4
 },
 "nbformat": 4,
 "nbformat_minor": 2
}
